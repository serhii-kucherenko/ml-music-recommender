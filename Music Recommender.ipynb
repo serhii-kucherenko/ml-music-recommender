{
 "cells": [
  {
   "cell_type": "markdown",
   "id": "412c59b9",
   "metadata": {},
   "source": [
    "### ML Steps:\n",
    "\n",
    "1. Import the Data\n",
    "2. Clean the Data\n",
    "3. Split the Data into Training/Test Sets\n",
    "4. Create a Model\n",
    "5. Train the Model\n",
    "6. Make Predictions\n",
    "7. Evaluate and Improve\n",
    "\n",
    "### Additional:\n",
    "1. Score accuracy\n",
    "2. Dump/Load model\n",
    "3. Visualize"
   ]
  },
  {
   "cell_type": "markdown",
   "id": "01134da8",
   "metadata": {},
   "source": [
    "### Import all dependencies"
   ]
  },
  {
   "cell_type": "code",
   "execution_count": null,
   "id": "bb375ac2",
   "metadata": {},
   "outputs": [],
   "source": [
    "import pandas as pd\n",
    "from sklearn.tree import DecisionTreeClassifier\n",
    "from sklearn.model_selection import train_test_split\n",
    "from sklearn.metrics import accuracy_score\n",
    "from sklearn import tree\n",
    "import joblib"
   ]
  },
  {
   "cell_type": "markdown",
   "id": "d6693efe",
   "metadata": {},
   "source": [
    "### Run if you want to train the model"
   ]
  },
  {
   "cell_type": "code",
   "execution_count": 109,
   "id": "7c7f0dc0",
   "metadata": {},
   "outputs": [
    {
     "data": {
      "text/plain": [
       "DecisionTreeClassifier()"
      ]
     },
     "execution_count": 109,
     "metadata": {},
     "output_type": "execute_result"
    }
   ],
   "source": [
    "# Step 1\n",
    "music_data = pd.read_csv('music.csv')\n",
    "\n",
    "X = music_data.drop(columns=[\"genre\"])\n",
    "y = music_data[\"genre\"]\n",
    "\n",
    "# Step 3\n",
    "X_train, X_test, y_train, y_test = train_test_split(X, y, test_size=0.2)\n",
    "\n",
    "# Step 4\n",
    "model = DecisionTreeClassifier()\n",
    "# Step 5\n",
    "model.fit(X_train.values, y_train)\n",
    "\n",
    "# Uncomment to store the model in a file and load it later\n",
    "# joblib.dump(model, 'music-recommender.joblib')"
   ]
  },
  {
   "cell_type": "markdown",
   "id": "9881727a",
   "metadata": {},
   "source": [
    "### Run if you want to load a trained model from a file"
   ]
  },
  {
   "cell_type": "code",
   "execution_count": 104,
   "id": "616ed3fa",
   "metadata": {},
   "outputs": [],
   "source": [
    "# Load model from a file\n",
    "model = joblib.load('music-recommender.joblib')"
   ]
  },
  {
   "cell_type": "code",
   "execution_count": 107,
   "id": "74ef6527",
   "metadata": {},
   "outputs": [
    {
     "name": "stdout",
     "output_type": "stream",
     "text": [
      "predictions ['Classical' 'Classical' 'Classical' 'HipHop']\n",
      "score 1.0\n"
     ]
    }
   ],
   "source": [
    "# Step 6\n",
    "predictions = model.predict(X_test.values)  # pass any data to predict to the function\n",
    "print('predictions', predictions)\n",
    "\n",
    "# Check accuracy\n",
    "score = accuracy_score(y_test, predictions)\n",
    "\n",
    "print('score', score)\n",
    "\n",
    "# Visualize\n",
    "tree.export_graphviz(\n",
    "    model,\n",
    "    out_file=\"music-recommender.dot\",\n",
    "    feature_names=['age', 'gender'],\n",
    "    class_names=sorted(y.unique()),\n",
    "    label='all',\n",
    "    filled=True\n",
    ")"
   ]
  }
 ],
 "metadata": {
  "kernelspec": {
   "display_name": "Python 3 (ipykernel)",
   "language": "python",
   "name": "python3"
  },
  "language_info": {
   "codemirror_mode": {
    "name": "ipython",
    "version": 3
   },
   "file_extension": ".py",
   "mimetype": "text/x-python",
   "name": "python",
   "nbconvert_exporter": "python",
   "pygments_lexer": "ipython3",
   "version": "3.9.13"
  }
 },
 "nbformat": 4,
 "nbformat_minor": 5
}
